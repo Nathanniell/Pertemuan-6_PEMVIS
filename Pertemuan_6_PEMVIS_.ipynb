{
  "nbformat": 4,
  "nbformat_minor": 0,
  "metadata": {
    "colab": {
      "provenance": []
    },
    "kernelspec": {
      "name": "python3",
      "display_name": "Python 3"
    },
    "language_info": {
      "name": "python"
    }
  },
  "cells": [
    {
      "cell_type": "code",
      "execution_count": 3,
      "metadata": {
        "colab": {
          "base_uri": "https://localhost:8080/"
        },
        "id": "uK-XvWxPeVQC",
        "outputId": "a85e4d2b-e81f-4ce0-9594-293294587627"
      },
      "outputs": [
        {
          "output_type": "stream",
          "name": "stdout",
          "text": [
            "MEMBUAT ES BUAH\n",
            "Masukkan nama buah pertama: anggur\n",
            "Masukkan nama buah kedua: mangga\n",
            "Masukkan nama buah ketiga: manggis\n",
            "Buah-buahan telah ditambahkan ke dalam es buah.\n",
            "Isi dari Es Buah:\n",
            "- manggis\n",
            "- mangga\n",
            "- anggur\n",
            "Jumlah buah dalam es buah: 3\n",
            "Masukkan nama buah yang ingin dikeluarkan: mangga\n",
            "mangga telah dikeluarkan dari es buah.\n",
            "Isi dari Es Buah:\n",
            "- manggis\n",
            "- anggur\n"
          ]
        }
      ],
      "source": [
        "es_buah = set()\n",
        "\n",
        "print(\"MEMBUAT ES BUAH\")\n",
        "\n",
        "buah_1 = input(\"Masukkan nama buah pertama: \")\n",
        "buah_2 = input(\"Masukkan nama buah kedua: \")\n",
        "buah_3 = input(\"Masukkan nama buah ketiga: \")\n",
        "\n",
        "es_buah.add(buah_1)\n",
        "es_buah.add(buah_2)\n",
        "es_buah.add(buah_3)\n",
        "\n",
        "print(\"Buah-buahan telah ditambahkan ke dalam es buah.\")\n",
        "\n",
        "print(\"Isi dari Es Buah:\")\n",
        "for buah in es_buah:\n",
        "    print(\"-\", buah)\n",
        "\n",
        "print(\"Jumlah buah dalam es buah:\", len(es_buah))\n",
        "\n",
        "hapus_buah = input(\"Masukkan nama buah yang ingin dikeluarkan: \")\n",
        "if hapus_buah in es_buah:\n",
        "    es_buah.remove(hapus_buah)\n",
        "    print(f\"{hapus_buah} telah dikeluarkan dari es buah.\")\n",
        "else:\n",
        "    print(f\"{hapus_buah} tidak ada dalam es buah.\")\n",
        "\n",
        "print(\"Isi dari Es Buah:\")\n",
        "for buah in es_buah:\n",
        "    print(\"-\", buah)"
      ]
    },
    {
      "cell_type": "code",
      "source": [
        "# Input nilai a dan b\n",
        "a = float(input(\"Masukkan nilai a: \"))\n",
        "b = float(input(\"Masukkan nilai b: \"))\n",
        "\n",
        "# Cek apakah a lebih besar dari b\n",
        "a_lebih_besar = a > b\n",
        "\n",
        "# Cek apakah b lebih besar dari a\n",
        "b_lebih_besar = b > a\n",
        "\n",
        "# Cek apakah a sama dengan b\n",
        "sama_dengan = a == b\n",
        "\n",
        "# Hitung PPN a dan b\n",
        "ppn_a = 0.12 * a if a > 10000 else 0\n",
        "ppn_b = 0.12 * b if b > 50000 else 0\n",
        "\n",
        "# Hitung total PPN\n",
        "total_ppn = ppn_a + ppn_b\n",
        "\n",
        "# Hapus nilai a dan b\n",
        "del a\n",
        "del b\n",
        "\n",
        "# Cek apakah a dan b sudah dihapus\n",
        "a_terhapus = \"a\" not in locals()\n",
        "b_terhapus = \"b\" not in locals()\n",
        "\n",
        "# Print hasil\n",
        "print(f\"a lebih besar dari b: {a_lebih_besar}\")\n",
        "print(f\"b lebih besar dari a: {b_lebih_besar}\")\n",
        "print(f\"a sama dengan b: {sama_dengan}\")\n",
        "print(f\"PPN a: {ppn_a:.2f}\")\n",
        "print(f\"PPN b: {ppn_b:.2f}\")\n",
        "print(f\"Total PPN: {total_ppn:.2f}\")\n",
        "print(f\"a sudah dihapus: {a_terhapus}\")\n",
        "print(f\"b sudah dihapus: {b_terhapus}\")"
      ],
      "metadata": {
        "colab": {
          "base_uri": "https://localhost:8080/"
        },
        "id": "485CeIbYuuPd",
        "outputId": "0ea9eaca-4283-4070-aaa0-02b4484e5942"
      },
      "execution_count": 5,
      "outputs": [
        {
          "output_type": "stream",
          "name": "stdout",
          "text": [
            "Masukkan nilai a: 10000\n",
            "Masukkan nilai b: 50000\n",
            "a lebih besar dari b: False\n",
            "b lebih besar dari a: True\n",
            "a sama dengan b: False\n",
            "PPN a: 0.00\n",
            "PPN b: 0.00\n",
            "Total PPN: 0.00\n",
            "a sudah dihapus: True\n",
            "b sudah dihapus: True\n"
          ]
        }
      ]
    },
    {
      "cell_type": "code",
      "source": [
        "# 1. ada 2 input (masukkan nilai) a dan b\n",
        "a = float(input(\"Masukkan nilai a: \"))\n",
        "b = float(input(\"Masukkan nilai b: \"))\n",
        "\n",
        "# 2. output berupa print\n",
        "print(\"Nilai a: \", a)\n",
        "print(\"Nilai b: \", b)\n",
        "\n",
        "# 3. cek dengan boolean apakah a lebih besar dari b?\n",
        "a_lebih_b = a > b\n",
        "print(\"a lebih besar dari b:\", a_lebih_b)\n",
        "\n",
        "# 4. cek dengan boolean apakah b lebih besar dari a?\n",
        "b_lebih_a = b > a\n",
        "print(\"b lebih besar dari a:\", b_lebih_a)\n",
        "\n",
        "# 5. cek dengan boolean apakah a sama dengan b?\n",
        "a_sama_b = a == b\n",
        "print(\"a sama dengan b:\", a_sama_b)\n",
        "\n",
        "# 6. hitung ppn a sebesar 12%, jika lebih dari 10000\n",
        "ppn_a = a * 0.12 if a > 10000 else 0\n",
        "print(\"PPN a:\", ppn_a)\n",
        "\n",
        "# 7. hitung ppn b sebesar 12%, jika lebih dari 50000\n",
        "ppn_b = b * 0.12 if b > 50000 else 0\n",
        "print(\"PPN b:\", ppn_b)\n",
        "\n",
        "# 8. tambahkan keduai ppn a dan b, cek dengan boolean\n",
        "total_ppn = ppn_a + ppn_b\n",
        "print(\"Total PPN:\", total_ppn)\n",
        "\n",
        "# 9. hapus a dan b, cek dengan boolean\n",
        "a = 0\n",
        "b = 0\n",
        "print(\"Nilai a:\", bool(a))\n",
        "print(\"Nilai b:\", bool(b))"
      ],
      "metadata": {
        "colab": {
          "base_uri": "https://localhost:8080/"
        },
        "id": "htr8AWE4kte7",
        "outputId": "fb10a5fd-13c7-4bba-b0e0-9dbb84b4a4a3"
      },
      "execution_count": 8,
      "outputs": [
        {
          "output_type": "stream",
          "name": "stdout",
          "text": [
            "Masukkan nilai a: 11000\n",
            "Masukkan nilai b: 60000\n",
            "Nilai a:  11000.0\n",
            "Nilai b:  60000.0\n",
            "a lebih besar dari b: False\n",
            "b lebih besar dari a: True\n",
            "a sama dengan b: False\n",
            "PPN a: 1320.0\n",
            "PPN b: 7200.0\n",
            "Total PPN: 8520.0\n",
            "Nilai a: False\n",
            "Nilai b: False\n"
          ]
        }
      ]
    },
    {
      "cell_type": "code",
      "source": [
        "# 1. ada 2 input (masukkan nilai) a dan b\n",
        "a = float(input(\"Masukkan nilai a: \"))\n",
        "b = float(input(\"Masukkan nilai b: \"))\n",
        "\n",
        "# 2. output berupa print\n",
        "print(\"Nilai a: \", a)\n",
        "print(\"Nilai b: \", b)\n",
        "\n",
        "# 3. cek dengan boolean apakah a lebih besar dari b?\n",
        "a_lebih_b = a > b\n",
        "print(\"a lebih besar dari b:\", a_lebih_b)\n",
        "\n",
        "# 4. cek dengan boolean apakah b lebih besar dari a?\n",
        "b_lebih_a = b > a\n",
        "print(\"b lebih besar dari a:\", b_lebih_a)\n",
        "\n",
        "# 5. cek dengan boolean apakah a sama dengan b?\n",
        "a_sama_b = a == b\n",
        "print(\"a sama dengan b:\", a_sama_b)\n",
        "\n",
        "# 6. hitung ppn a sebesar 12%, jika lebih dari 10000\n",
        "ppn_a = a * 0.12 if a > 10000 else 0\n",
        "print(\"PPN a:\", ppn_a)\n",
        "\n",
        "# 7. hitung ppn b sebesar 12%, jika lebih dari 50000\n",
        "ppn_b = b * 0.12 if b > 50000 else 0\n",
        "print(\"PPN b:\", ppn_b)\n",
        "\n",
        "# 8. tambahkan keduai ppn a dan b, cek dengan boolean\n",
        "total_ppn = ppn_a + ppn_b\n",
        "print(\"Total PPN:\", total_ppn)\n",
        "\n",
        "# 9. hapus a dan b, cek dengan boolean\n",
        "hapus = input(\"Hapus a/b: \")\n",
        "if hapus.lower() == \"a\":\n",
        "    a = 0\n",
        "elif hapus.lower() == \"b\":\n",
        "    b = 0\n",
        "else:\n",
        "    print(\"Inputan tidak valid\")\n",
        "\n",
        "print(\"Nilai a:\", bool(a))\n",
        "print(\"Nilai b:\", bool(b))"
      ],
      "metadata": {
        "colab": {
          "base_uri": "https://localhost:8080/"
        },
        "id": "BuXYEtPCxTd0",
        "outputId": "4ccee95c-392b-4ae1-c0b8-7039f4a031db"
      },
      "execution_count": 9,
      "outputs": [
        {
          "output_type": "stream",
          "name": "stdout",
          "text": [
            "Masukkan nilai a: 10000\n",
            "Masukkan nilai b: 50000\n",
            "Nilai a:  10000.0\n",
            "Nilai b:  50000.0\n",
            "a lebih besar dari b: False\n",
            "b lebih besar dari a: True\n",
            "a sama dengan b: False\n",
            "PPN a: 0\n",
            "PPN b: 0\n",
            "Total PPN: 0\n",
            "Hapus a/b: a\n",
            "Nilai a: False\n",
            "Nilai b: True\n"
          ]
        }
      ]
    },
    {
      "cell_type": "code",
      "source": [
        "import numpy as np\n",
        "import matplotlib.pyplot as plt\n",
        "\n",
        "rowmax = int(1079)\n",
        "colmax = int(1919)\n",
        "\n",
        "radius_max = int(1000)\n",
        "batas1 = int(0.2*radius_max)\n",
        "batas2 = int(0.4*radius_max)\n",
        "batas3 = int(0.6*radius_max)\n",
        "batas4 = int(0.8*radius_max)\n",
        "\n",
        "gambar = np.zeros(shape=(rowmax+1, colmax+1, 3), dtype=np.int16)\n",
        "for i in range(0, rowmax+1):\n",
        "    for j in range(0, colmax+1):\n",
        "        if (i**2+j**2) >= 0 and (i**2+j**2) < batas1**2:\n",
        "            gambar[i, j, 0] = 255\n",
        "        if (i**2+j**2) >= batas1**2 and (i**2+j**2) < batas2**2:\n",
        "            gambar[i, j, 1] = 255\n",
        "        if (i**2+j**2) >= batas2**2 and (i**2+j**2) < batas3**2:\n",
        "            gambar[i, j, 2] = 255\n",
        "        if (i**2+j**2) >= batas3**2 and (i**2+j**2) < batas4**2:\n",
        "            gambar[i, j, 0] = 255\n",
        "            gambar[i, j, 1] = 255\n",
        "        if (i**2+j**2) >= batas4**2 and (i**2+j**2) < radius_max**2:\n",
        "            gambar[i, j, 0] = 255\n",
        "            gambar[i, j, 2] = 255\n",
        "\n",
        "plt.figure()\n",
        "plt.imshow(gambar)\n",
        "plt.show()\n"
      ],
      "metadata": {
        "colab": {
          "base_uri": "https://localhost:8080/",
          "height": 345
        },
        "id": "tKb1q8v_7a8Z",
        "outputId": "f5b49b3d-b377-409c-e18d-757d79d4144f"
      },
      "execution_count": 12,
      "outputs": [
        {
          "output_type": "display_data",
          "data": {
            "text/plain": [
              "<Figure size 640x480 with 1 Axes>"
            ],
            "image/png": "[encoded data removed]"
          },
          "metadata": {}
        }
      ]
    },
    {
      "cell_type": "code",
      "source": [
        "import numpy as np\n",
        "import matplotlib.pyplot as plt\n",
        "\n",
        "rowmax = int(1079)\n",
        "colmax = int(1919)\n",
        "\n",
        "radius_max = int(1000)\n",
        "batas1 = int(0.4 * radius_max)\n",
        "batas2 = int(0.8 * radius_max)\n",
        "batas3 = int(1.2 * radius_max)\n",
        "batas4 = int(1.6 * radius_max)\n",
        "batas5 = int(2 * radius_max)\n",
        "batas6 = int(2.4 * radius_max)\n",
        "\n",
        "gambar = np.zeros(shape=(rowmax + 1, colmax + 1, 3), dtype=np.int16)\n",
        "for i in range(0, rowmax + 1):\n",
        "    for j in range(0, colmax + 1):\n",
        "        if (i ** 2 + j ** 2) >= 0 and (i ** 2 + j ** 2) < batas1 ** 2:\n",
        "            gambar[i, j] = [255, 255, 255]\n",
        "        elif (i ** 2 + j ** 2) >= batas1 ** 2 or (i ** 2 + j ** 2) < batas2 ** 2:\n",
        "            gambar[i, j] = [0, 0, 0]\n",
        "        elif (i ** 2 + j ** 2) >= batas2 ** 2 and (i ** 2 + j ** 2) < batas3 ** 2:\n",
        "            gambar[i, j] = [255, 255, 255]\n",
        "        elif (i ** 2 + j ** 2) >= batas3 ** 2 and (i ** 2 + j ** 2) < batas4 ** 2:\n",
        "            gambar[i, j] = [0, 0, 0]\n",
        "        elif (i ** 2 + j ** 2) >= batas4 ** 2 and (i ** 2 + j ** 2) < batas5 ** 2:\n",
        "            gambar[i, j] = [255, 255, 255]\n",
        "        elif (i ** 2 + j ** 2) >= batas5 ** 2 and (i ** 2 + j ** 2) < batas6 ** 2:\n",
        "            gambar[i, j] = [0, 0, 0]\n",
        "        elif (i ** 2 + j ** 2) >= batas6 ** 2 and (i ** 2 + j ** 2) < radius_max ** 2:\n",
        "            gambar[i, j] = [255, 255, 255]\n",
        "\n",
        "plt.figure()\n",
        "plt.imshow(gambar)\n",
        "plt.show()\n"
      ],
      "metadata": {
        "colab": {
          "base_uri": "https://localhost:8080/",
          "height": 345
        },
        "id": "GO640tka_2_M",
        "outputId": "c7c22e56-e348-4593-c361-143d0408cacb"
      },
      "execution_count": 13,
      "outputs": [
        {
          "output_type": "display_data",
          "data": {
            "text/plain": [
              "<Figure size 640x480 with 1 Axes>"
            ],
            "image/png": "[encoded data removed]"
          },
          "metadata": {}
        }
      ]
    },
    {
      "cell_type": "code",
      "source": [
        "import numpy as np\n",
        "import matplotlib.pyplot as plt\n",
        "\n",
        "rowmax = int(1079)\n",
        "colmax = int(1919)\n",
        "\n",
        "radius_max = int(1000)\n",
        "batas1 = int(0.4 * radius_max)\n",
        "batas2 = int(0.8 * radius_max)\n",
        "batas3 = int(1.2 * radius_max)\n",
        "batas4 = int(1.6 * radius_max)\n",
        "batas5 = int(2 * radius_max)\n",
        "batas6 = int(2.4 * radius_max)\n",
        "\n",
        "gambar = np.zeros(shape=(rowmax + 1, colmax + 1, 3), dtype=np.int16)\n",
        "for i in range(0, rowmax + 1):\n",
        "    for j in range(0, colmax + 1):\n",
        "        if (i ** 2 + j ** 2) >= 0 and (i ** 2 + j ** 2) < batas1 ** 2:\n",
        "            # Set warna putih pada lingkaran pertama\n",
        "            gambar[i, j] = [255, 255, 255]\n",
        "        elif (i ** 2 + j ** 2) >= batas1 ** 2 and (i ** 2 + j ** 2) < batas2 ** 2:\n",
        "            # Set warna hitam pada lingkaran kedua\n",
        "            gambar[i, j] = [0, 0, 0]\n",
        "        elif (i ** 2 + j ** 2) >= batas2 ** 2 and (i ** 2 + j ** 2) < batas3 ** 2:\n",
        "            # Set warna biru pada lingkaran ketiga\n",
        "            gambar[i, j] = [0, 0, 255]\n",
        "        elif (i ** 2 + j ** 2) >= batas3 ** 2 and (i ** 2 + j ** 2) < batas4 ** 2:\n",
        "            # Set warna hijau pada lingkaran keempat\n",
        "            gambar[i, j] = [0, 255, 0]\n",
        "        elif (i ** 2 + j ** 2) >= batas4 ** 2 and (i ** 2 + j ** 2) < batas5 ** 2:\n",
        "            # Set warna merah pada lingkaran kelima\n",
        "            gambar[i, j] = [255, 0, 0]\n",
        "        elif (i ** 2 + j ** 2) >= batas5 ** 2 and (i ** 2 + j ** 2) < batas6 ** 2:\n",
        "            # Set warna kuning pada lingkaran keenam\n",
        "            gambar[i, j] = [255, 255, 0]\n",
        "        elif (i ** 2 + j ** 2) >= batas6 ** 2 and (i ** 2 + j ** 2) < radius_max ** 2:\n",
        "            # Set warna ungu pada lingkaran terakhir\n",
        "            gambar[i, j] = [128, 0, 128]\n",
        "\n",
        "plt.figure()\n",
        "plt.imshow(gambar)\n",
        "plt.show()"
      ],
      "metadata": {
        "colab": {
          "base_uri": "https://localhost:8080/",
          "height": 345
        },
        "id": "G8SA-V_6Aymq",
        "outputId": "b2f08814-0487-411e-f6f6-6ad5e8b74a94"
      },
      "execution_count": 14,
      "outputs": [
        {
          "output_type": "display_data",
          "data": {
            "text/plain": [
              "<Figure size 640x480 with 1 Axes>"
            ],
            "image/png": "[encoded data removed]"
          },
          "metadata": {}
        }
      ]
    }
  ]
}